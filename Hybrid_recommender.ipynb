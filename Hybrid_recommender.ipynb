{
 "cells": [
  {
   "cell_type": "code",
   "execution_count": 1,
   "metadata": {},
   "outputs": [],
   "source": [
    "import pandas as pd\n",
    "import numpy as np \n",
    "import pickle \n",
    "\n",
    "corrMatrix = pickle.load(open('corrmtx.pkl','rb'))\n",
    "model = pickle.load(open('model.pkl','rb'))\n",
    "df = pd.read_csv('Users.csv')"
   ]
  },
  {
   "cell_type": "code",
   "execution_count": 2,
   "metadata": {},
   "outputs": [],
   "source": [
    "customer_data = pd.read_csv('ColumnCountsperCustomer.csv')"
   ]
  },
  {
   "cell_type": "code",
   "execution_count": 3,
   "metadata": {},
   "outputs": [],
   "source": [
    "def get_similar(itemId):\n",
    "    similar_ratings = corrMatrix[itemId]\n",
    "    index_list=similar_ratings.index\n",
    "    value_list = similar_ratings.values\n",
    "    final_df = pd.DataFrame(index=index_list)\n",
    "    final_df['Corr'] = value_list\n",
    "    final_df = final_df.sort_values(by='Corr',ascending=False)\n",
    "    return final_df"
   ]
  },
  {
   "cell_type": "code",
   "execution_count": 4,
   "metadata": {},
   "outputs": [],
   "source": [
    "def get_item_item(test_user) :\n",
    "    user_items = []\n",
    "    data = customer_data[customer_data['CustomerNumber']==test_user]\n",
    "    user_items = [column for column in data.columns if data[column].iloc[0]!=0][1:]\n",
    "    similar_items = pd.DataFrame()\n",
    "    for item in user_items:\n",
    "        recommended_df = get_similar(item)\n",
    "        items = recommended_df.index\n",
    "        for item in items:\n",
    "            if item not in user_items:\n",
    "                similar_items = similar_items.append(recommended_df.loc[item])\n",
    "    similar_items = similar_items[similar_items['Corr']>0]\n",
    "    return list(similar_items.index)\n",
    "        "
   ]
  },
  {
   "cell_type": "code",
   "execution_count": 5,
   "metadata": {},
   "outputs": [],
   "source": [
    "def get_item_users(test_user):\n",
    "    distances,indices = model.kneighbors(df[df['Customer Code']==test_user][['DaysPresent','Revenue']],n_neighbors=6)\n",
    "    indices = indices.squeeze()[1:]\n",
    "    similar_users=[df['Customer Code'].values[i] for i in indices]\n",
    "    user_items = []\n",
    "    data = customer_data[customer_data['CustomerNumber']==test_user]\n",
    "    user_items = [column for column in data.columns if data[column].iloc[0]!=0]\n",
    "    recommended_items= []\n",
    "    for user in similar_users :\n",
    "        if user in list(customer_data['CustomerNumber']):\n",
    "            data = customer_data[customer_data['CustomerNumber']==user]\n",
    "#         print(data.head())\n",
    "            for column in data.columns[1:] :\n",
    "                if data[column].iloc[0]!=0:\n",
    "                    if column not in user_items:\n",
    "                        recommended_items.append(column)\n",
    "    return recommended_items"
   ]
  },
  {
   "cell_type": "code",
   "execution_count": 6,
   "metadata": {},
   "outputs": [],
   "source": [
    "item_item_recommendation = np.unique(list(get_item_item('CSH1965')))\n"
   ]
  },
  {
   "cell_type": "code",
   "execution_count": 7,
   "metadata": {},
   "outputs": [],
   "source": [
    "user_item_recommendation = get_item_users('CSH1965')"
   ]
  },
  {
   "cell_type": "code",
   "execution_count": 8,
   "metadata": {},
   "outputs": [],
   "source": [
    "final_recommendation = []\n",
    "confidence = []\n",
    "for item in user_item_recommendation:\n",
    "    if item in item_item_recommendation:\n",
    "        final_recommendation.append(item)\n",
    "        confidence.append(1)\n",
    "    else:\n",
    "        final_recommendation.append(item)\n",
    "        confidence.append(0)\n",
    "        "
   ]
  },
  {
   "cell_type": "code",
   "execution_count": 9,
   "metadata": {},
   "outputs": [
    {
     "data": {
      "text/plain": [
       "(25, 2)"
      ]
     },
     "execution_count": 9,
     "metadata": {},
     "output_type": "execute_result"
    }
   ],
   "source": [
    "recommendation_df = pd.DataFrame()\n",
    "recommendation_df['Item'] = final_recommendation\n",
    "recommendation_df['Confidence'] = confidence\n",
    "\n",
    "recommendation_df[recommendation_df['Confidence']==1].shape"
   ]
  },
  {
   "cell_type": "code",
   "execution_count": 10,
   "metadata": {},
   "outputs": [
    {
     "name": "stdout",
     "output_type": "stream",
     "text": [
      "confidence\t corrMatrix\t customer_data\t final_recommendation\t get_item_item\t get_similar\t item\t item_item_recommendation\t np\t \n",
      "pd\t pickle\t recommendation_df\t user_item_recommendation\t \n"
     ]
    }
   ],
   "source": [
    "%who"
   ]
  },
  {
   "cell_type": "code",
   "execution_count": 12,
   "metadata": {},
   "outputs": [],
   "source": []
  },
  {
   "cell_type": "code",
   "execution_count": 13,
   "metadata": {},
   "outputs": [],
   "source": []
  }
 ],
 "metadata": {
  "kernelspec": {
   "display_name": "Python 3",
   "language": "python",
   "name": "python3"
  },
  "language_info": {
   "codemirror_mode": {
    "name": "ipython",
    "version": 3
   },
   "file_extension": ".py",
   "mimetype": "text/x-python",
   "name": "python",
   "nbconvert_exporter": "python",
   "pygments_lexer": "ipython3",
   "version": "3.6.9"
  }
 },
 "nbformat": 4,
 "nbformat_minor": 4
}
